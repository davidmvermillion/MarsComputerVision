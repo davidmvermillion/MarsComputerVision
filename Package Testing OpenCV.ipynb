{
 "cells": [
  {
   "cell_type": "code",
   "execution_count": 3,
   "id": "63762547",
   "metadata": {},
   "outputs": [
    {
     "name": "stderr",
     "output_type": "stream",
     "text": [
      "image too large\n",
      "error: cannot decode code stream\n"
     ]
    }
   ],
   "source": [
    "# Workspace initialization\n",
    "import numpy as np\n",
    "import pandas as pd\n",
    "import matplotlib.pyplot as plt\n",
    "import os\n",
    "import cv2\n",
    "\n",
    "# Parameter Updates\n",
    "plt.rcParams['figure.dpi'] = 300\n",
    "plt.rcParams['axes.axisbelow'] = True\n",
    "# https://github.com/opencv/opencv/issues/14058\n",
    "os.environ['OPENCV_IO_ENABLE_JASPER']='True'\n",
    "# https://forum.opencv.org/t/how-to-deal-with-large-images/952/2\n",
    "\n",
    "\n",
    "# Import data file\n",
    "# https://www.geeksforgeeks.org/python-opencv-cv2-imread-method/\n",
    "# Read the image data into the image variable via the imread() function of the opencv package\n",
    "image = cv2.imread('ESP_072719_1970_RED.JP2') \n",
    "\n",
    "# Display the image using the imshow() function of the io package\n",
    "# cv2.imshow(image)"
   ]
  },
  {
   "cell_type": "code",
   "execution_count": null,
   "metadata": {},
   "outputs": [],
   "source": []
  }
 ],
 "metadata": {
  "kernelspec": {
   "display_name": "Python 3 (ipykernel)",
   "language": "python",
   "name": "python3"
  },
  "language_info": {
   "codemirror_mode": {
    "name": "ipython",
    "version": 3
   },
   "file_extension": ".py",
   "mimetype": "text/x-python",
   "name": "python",
   "nbconvert_exporter": "python",
   "pygments_lexer": "ipython3",
   "version": "3.9.18"
  }
 },
 "nbformat": 4,
 "nbformat_minor": 5
}
